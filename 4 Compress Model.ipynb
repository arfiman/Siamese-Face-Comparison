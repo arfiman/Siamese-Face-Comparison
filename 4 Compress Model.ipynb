{
  "nbformat": 4,
  "nbformat_minor": 0,
  "metadata": {
    "colab": {
      "provenance": [],
      "gpuType": "T4"
    },
    "kernelspec": {
      "name": "python3",
      "display_name": "Python 3"
    },
    "language_info": {
      "name": "python"
    },
    "accelerator": "GPU"
  },
  "cells": [
    {
      "cell_type": "code",
      "source": [
        "import tensorflow as tf\n",
        "\n",
        "try:\n",
        "  converter = tf.lite.TFLiteConverter.from_saved_model('/content/drive/MyDrive/Siamese Face Recognition/Keperluan Deploy Face Verif/v2/face-verif-model')\n",
        "except Exception as e:\n",
        "  print(e)\n",
        "converter.optimizations = [tf.lite.Optimize.DEFAULT]\n",
        "converter.target_spec.supported_types = [tf.float16]\n",
        "tflite_quant_model = converter.convert()"
      ],
      "metadata": {
        "id": "GW-hxKjZaow1"
      },
      "execution_count": null,
      "outputs": []
    },
    {
      "cell_type": "code",
      "source": [
        "tflite_model_file = '/content/drive/MyDrive/Siamese Face Recognition/Keperluan Deploy Face Verif/v2/model.tflite'\n",
        "tflite_model_file.write_bytes(tflite_quant_model)"
      ],
      "metadata": {
        "id": "aL3nrQP3cbQa"
      },
      "execution_count": null,
      "outputs": []
    }
  ]
}